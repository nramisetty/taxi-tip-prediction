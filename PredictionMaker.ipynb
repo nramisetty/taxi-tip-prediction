{
 "cells": [
  {
   "cell_type": "code",
   "execution_count": null,
   "metadata": {},
   "outputs": [],
   "source": [
    "import h2o\n",
    "import numpy as np\n",
    "import pandas as pd\n",
    "import processing_functions\n",
    "\n",
    "h2o.init()"
   ]
  },
  {
   "cell_type": "code",
   "execution_count": null,
   "metadata": {},
   "outputs": [],
   "source": [
    "\n",
    "input_frame = pd.read_csv('data/input.csv').drop('Unnamed: 0', axis = 1)\n",
    "input_frame = processing_functions.preprocess(input_frame)\n",
    "input_frame.insert(0,'C1',[i for i in range(input_frame.shape[0])])\n",
    "input_h2o = processing_functions.process_df(h2o.H2OFrame(input_frame))"
   ]
  },
  {
   "cell_type": "code",
   "execution_count": null,
   "metadata": {},
   "outputs": [],
   "source": [
    "gbm_with_0 = h2o.load_model('models/gbm_tip_amount_0')\n",
    "\n",
    "pred = gbm_with_0.predict(input_h2o).round(2).as_data_frame(use_pandas=True)\n",
    "\n",
    "\n",
    "with open('data/output.txt','w') as fp:\n",
    "    fp.truncate(0)\n",
    "\n",
    "    for _,r in pred.iterrows():\n",
    "        fp.write(str(r['predict']) + '\\n')\n",
    "    \n",
    "#for evaluation purposes\n",
    "eval_h2o = input_h2o.cbind(h2o.H2OFrame(pred))\n",
    "eval_h2o"
   ]
  }
 ],
 "metadata": {
  "kernelspec": {
   "display_name": "Python 3",
   "language": "python",
   "name": "python3"
  },
  "language_info": {
   "codemirror_mode": {
    "name": "ipython",
    "version": 3
   },
   "file_extension": ".py",
   "mimetype": "text/x-python",
   "name": "python",
   "nbconvert_exporter": "python",
   "pygments_lexer": "ipython3",
   "version": "3.7.2"
  }
 },
 "nbformat": 4,
 "nbformat_minor": 4
}
