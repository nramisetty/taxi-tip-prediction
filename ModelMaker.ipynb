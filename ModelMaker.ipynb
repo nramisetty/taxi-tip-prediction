{
 "cells": [
  {
   "cell_type": "code",
   "execution_count": 1,
   "metadata": {},
   "outputs": [
    {
     "name": "stdout",
     "output_type": "stream",
     "text": [
      "Checking whether there is an H2O instance running at http://localhost:54321 . connected.\n"
     ]
    },
    {
     "data": {
      "text/html": [
       "<div style=\"overflow:auto\"><table style=\"width:50%\"><tr><td>H2O cluster uptime:</td>\n",
       "<td>7 mins 10 secs</td></tr>\n",
       "<tr><td>H2O cluster timezone:</td>\n",
       "<td>America/Los_Angeles</td></tr>\n",
       "<tr><td>H2O data parsing timezone:</td>\n",
       "<td>UTC</td></tr>\n",
       "<tr><td>H2O cluster version:</td>\n",
       "<td>3.28.0.3</td></tr>\n",
       "<tr><td>H2O cluster version age:</td>\n",
       "<td>1 month and 5 days </td></tr>\n",
       "<tr><td>H2O cluster name:</td>\n",
       "<td>H2O_from_python_tshih_0ff18d</td></tr>\n",
       "<tr><td>H2O cluster total nodes:</td>\n",
       "<td>1</td></tr>\n",
       "<tr><td>H2O cluster free memory:</td>\n",
       "<td>3.476 Gb</td></tr>\n",
       "<tr><td>H2O cluster total cores:</td>\n",
       "<td>2</td></tr>\n",
       "<tr><td>H2O cluster allowed cores:</td>\n",
       "<td>2</td></tr>\n",
       "<tr><td>H2O cluster status:</td>\n",
       "<td>locked, healthy</td></tr>\n",
       "<tr><td>H2O connection url:</td>\n",
       "<td>http://localhost:54321</td></tr>\n",
       "<tr><td>H2O connection proxy:</td>\n",
       "<td>{'http': None, 'https': None}</td></tr>\n",
       "<tr><td>H2O internal security:</td>\n",
       "<td>False</td></tr>\n",
       "<tr><td>H2O API Extensions:</td>\n",
       "<td>Amazon S3, XGBoost, Algos, AutoML, Core V3, TargetEncoder, Core V4</td></tr>\n",
       "<tr><td>Python version:</td>\n",
       "<td>3.7.2 final</td></tr></table></div>"
      ],
      "text/plain": [
       "--------------------------  ------------------------------------------------------------------\n",
       "H2O cluster uptime:         7 mins 10 secs\n",
       "H2O cluster timezone:       America/Los_Angeles\n",
       "H2O data parsing timezone:  UTC\n",
       "H2O cluster version:        3.28.0.3\n",
       "H2O cluster version age:    1 month and 5 days\n",
       "H2O cluster name:           H2O_from_python_tshih_0ff18d\n",
       "H2O cluster total nodes:    1\n",
       "H2O cluster free memory:    3.476 Gb\n",
       "H2O cluster total cores:    2\n",
       "H2O cluster allowed cores:  2\n",
       "H2O cluster status:         locked, healthy\n",
       "H2O connection url:         http://localhost:54321\n",
       "H2O connection proxy:       {'http': None, 'https': None}\n",
       "H2O internal security:      False\n",
       "H2O API Extensions:         Amazon S3, XGBoost, Algos, AutoML, Core V3, TargetEncoder, Core V4\n",
       "Python version:             3.7.2 final\n",
       "--------------------------  ------------------------------------------------------------------"
      ]
     },
     "metadata": {},
     "output_type": "display_data"
    }
   ],
   "source": [
    "import h2o\n",
    "import pandas as pd\n",
    "import numpy as np\n",
    "import processing_functions\n",
    "import matplotlib.pyplot as plt\n",
    "from h2o.estimators.random_forest import H2ORandomForestEstimator as H2ORFE\n",
    "from h2o.estimators.gbm import H2OGradientBoostingEstimator as H2OGBE\n",
    "from h2o.grid.grid_search import H2OGridSearch as H2OGS\n",
    "h2o.init()\n",
    "\n",
    "from sklearn.metrics import r2_score, mean_squared_error, mean_absolute_error\n"
   ]
  },
  {
   "cell_type": "code",
   "execution_count": 2,
   "metadata": {},
   "outputs": [
    {
     "name": "stdout",
     "output_type": "stream",
     "text": [
      "Parse progress: |█████████████████████████████████████████████████████████| 100%\n"
     ]
    }
   ],
   "source": [
    "df = h2o.upload_file('data/train.csv')"
   ]
  },
  {
   "cell_type": "code",
   "execution_count": 3,
   "metadata": {},
   "outputs": [
    {
     "data": {
      "text/html": [
       "<table>\n",
       "<thead>\n",
       "<tr><th style=\"text-align: right;\">  C1</th><th style=\"text-align: right;\">  unix_pickup</th><th style=\"text-align: right;\">  unix_dropoff</th><th style=\"text-align: right;\">  trip_duration</th><th style=\"text-align: right;\">  RatecodeID</th><th style=\"text-align: right;\">  PULocationID</th><th style=\"text-align: right;\">  DOLocationID</th><th style=\"text-align: right;\">  passenger_count</th><th style=\"text-align: right;\">  trip_distance</th><th style=\"text-align: right;\">  fare_amount</th><th style=\"text-align: right;\">  extra</th><th style=\"text-align: right;\">  mta_tax</th><th style=\"text-align: right;\">  tolls_amount</th><th style=\"text-align: right;\">  improvement_surcharge</th><th style=\"text-align: right;\">  total_amount</th><th style=\"text-align: right;\">  trip_type</th><th style=\"text-align: right;\">  congestion_surcharge</th><th style=\"text-align: right;\">  tip_amount</th><th style=\"text-align: right;\">  did_tip</th></tr>\n",
       "</thead>\n",
       "<tbody>\n",
       "<tr><td style=\"text-align: right;\">   0</td><td style=\"text-align: right;\">  7.67288e+06</td><td style=\"text-align: right;\">   7.67314e+06</td><td style=\"text-align: right;\">            256</td><td style=\"text-align: right;\">           1</td><td style=\"text-align: right;\">            75</td><td style=\"text-align: right;\">           236</td><td style=\"text-align: right;\">                1</td><td style=\"text-align: right;\">           0.87</td><td style=\"text-align: right;\">          5  </td><td style=\"text-align: right;\">      0</td><td style=\"text-align: right;\">      0.5</td><td style=\"text-align: right;\">             0</td><td style=\"text-align: right;\">                    0.3</td><td style=\"text-align: right;\">          9.55</td><td style=\"text-align: right;\">          1</td><td style=\"text-align: right;\">                  2.75</td><td style=\"text-align: right;\">        1   </td><td style=\"text-align: right;\">        1</td></tr>\n",
       "<tr><td style=\"text-align: right;\">   1</td><td style=\"text-align: right;\">  7.67145e+06</td><td style=\"text-align: right;\">   7.67185e+06</td><td style=\"text-align: right;\">            400</td><td style=\"text-align: right;\">           1</td><td style=\"text-align: right;\">            65</td><td style=\"text-align: right;\">            54</td><td style=\"text-align: right;\">                1</td><td style=\"text-align: right;\">           1.28</td><td style=\"text-align: right;\">          7  </td><td style=\"text-align: right;\">      0</td><td style=\"text-align: right;\">      0.5</td><td style=\"text-align: right;\">             0</td><td style=\"text-align: right;\">                    0.3</td><td style=\"text-align: right;\">          7.8 </td><td style=\"text-align: right;\">          1</td><td style=\"text-align: right;\">                  0   </td><td style=\"text-align: right;\">        0   </td><td style=\"text-align: right;\">        0</td></tr>\n",
       "<tr><td style=\"text-align: right;\">   2</td><td style=\"text-align: right;\">  6.88911e+06</td><td style=\"text-align: right;\">   6.88983e+06</td><td style=\"text-align: right;\">            720</td><td style=\"text-align: right;\">           1</td><td style=\"text-align: right;\">           260</td><td style=\"text-align: right;\">           157</td><td style=\"text-align: right;\">                1</td><td style=\"text-align: right;\">           1.27</td><td style=\"text-align: right;\">          9  </td><td style=\"text-align: right;\">      1</td><td style=\"text-align: right;\">      0.5</td><td style=\"text-align: right;\">             0</td><td style=\"text-align: right;\">                    0.3</td><td style=\"text-align: right;\">         12.96</td><td style=\"text-align: right;\">          1</td><td style=\"text-align: right;\">                  0   </td><td style=\"text-align: right;\">        2.16</td><td style=\"text-align: right;\">        1</td></tr>\n",
       "<tr><td style=\"text-align: right;\">   3</td><td style=\"text-align: right;\">  7.58493e+06</td><td style=\"text-align: right;\">   7.58526e+06</td><td style=\"text-align: right;\">            335</td><td style=\"text-align: right;\">           1</td><td style=\"text-align: right;\">            75</td><td style=\"text-align: right;\">            74</td><td style=\"text-align: right;\">                1</td><td style=\"text-align: right;\">           1.36</td><td style=\"text-align: right;\">          6.5</td><td style=\"text-align: right;\">      1</td><td style=\"text-align: right;\">      0.5</td><td style=\"text-align: right;\">             0</td><td style=\"text-align: right;\">                    0.3</td><td style=\"text-align: right;\">          9.3 </td><td style=\"text-align: right;\">          1</td><td style=\"text-align: right;\">                  0   </td><td style=\"text-align: right;\">        1   </td><td style=\"text-align: right;\">        1</td></tr>\n",
       "<tr><td style=\"text-align: right;\">   4</td><td style=\"text-align: right;\">  6.09305e+06</td><td style=\"text-align: right;\">   6.09508e+06</td><td style=\"text-align: right;\">           2031</td><td style=\"text-align: right;\">           1</td><td style=\"text-align: right;\">            65</td><td style=\"text-align: right;\">           246</td><td style=\"text-align: right;\">                1</td><td style=\"text-align: right;\">           7.27</td><td style=\"text-align: right;\">         28  </td><td style=\"text-align: right;\">      0</td><td style=\"text-align: right;\">      0.5</td><td style=\"text-align: right;\">             0</td><td style=\"text-align: right;\">                    0.3</td><td style=\"text-align: right;\">         37.86</td><td style=\"text-align: right;\">          1</td><td style=\"text-align: right;\">                  2.75</td><td style=\"text-align: right;\">        6.31</td><td style=\"text-align: right;\">        1</td></tr>\n",
       "<tr><td style=\"text-align: right;\">   5</td><td style=\"text-align: right;\">  5.82087e+06</td><td style=\"text-align: right;\">   5.82127e+06</td><td style=\"text-align: right;\">            403</td><td style=\"text-align: right;\">           1</td><td style=\"text-align: right;\">            25</td><td style=\"text-align: right;\">           195</td><td style=\"text-align: right;\">                1</td><td style=\"text-align: right;\">           1.6 </td><td style=\"text-align: right;\">          7  </td><td style=\"text-align: right;\">      0</td><td style=\"text-align: right;\">      0.5</td><td style=\"text-align: right;\">             0</td><td style=\"text-align: right;\">                    0.3</td><td style=\"text-align: right;\">          9.8 </td><td style=\"text-align: right;\">          1</td><td style=\"text-align: right;\">                  0   </td><td style=\"text-align: right;\">        2   </td><td style=\"text-align: right;\">        1</td></tr>\n",
       "<tr><td style=\"text-align: right;\">   6</td><td style=\"text-align: right;\">  6.28257e+06</td><td style=\"text-align: right;\">   6.28704e+06</td><td style=\"text-align: right;\">           4470</td><td style=\"text-align: right;\">           1</td><td style=\"text-align: right;\">            65</td><td style=\"text-align: right;\">           132</td><td style=\"text-align: right;\">                1</td><td style=\"text-align: right;\">          28.32</td><td style=\"text-align: right;\">         79.5</td><td style=\"text-align: right;\">      1</td><td style=\"text-align: right;\">      0.5</td><td style=\"text-align: right;\">             0</td><td style=\"text-align: right;\">                    0.3</td><td style=\"text-align: right;\">         97.56</td><td style=\"text-align: right;\">          1</td><td style=\"text-align: right;\">                  0   </td><td style=\"text-align: right;\">       16.26</td><td style=\"text-align: right;\">        1</td></tr>\n",
       "<tr><td style=\"text-align: right;\">   7</td><td style=\"text-align: right;\">  6.115e+06  </td><td style=\"text-align: right;\">   6.11646e+06</td><td style=\"text-align: right;\">           1459</td><td style=\"text-align: right;\">           1</td><td style=\"text-align: right;\">            65</td><td style=\"text-align: right;\">           162</td><td style=\"text-align: right;\">                1</td><td style=\"text-align: right;\">           6.52</td><td style=\"text-align: right;\">         22.5</td><td style=\"text-align: right;\">      1</td><td style=\"text-align: right;\">      0.5</td><td style=\"text-align: right;\">             0</td><td style=\"text-align: right;\">                    0.3</td><td style=\"text-align: right;\">         32.46</td><td style=\"text-align: right;\">          1</td><td style=\"text-align: right;\">                  2.75</td><td style=\"text-align: right;\">        5.41</td><td style=\"text-align: right;\">        1</td></tr>\n",
       "<tr><td style=\"text-align: right;\">   8</td><td style=\"text-align: right;\">  7.49799e+06</td><td style=\"text-align: right;\">   7.49872e+06</td><td style=\"text-align: right;\">            729</td><td style=\"text-align: right;\">           1</td><td style=\"text-align: right;\">             7</td><td style=\"text-align: right;\">           138</td><td style=\"text-align: right;\">                1</td><td style=\"text-align: right;\">           3.06</td><td style=\"text-align: right;\">         12.5</td><td style=\"text-align: right;\">      1</td><td style=\"text-align: right;\">      0.5</td><td style=\"text-align: right;\">             0</td><td style=\"text-align: right;\">                    0.3</td><td style=\"text-align: right;\">         17.16</td><td style=\"text-align: right;\">          1</td><td style=\"text-align: right;\">                  0   </td><td style=\"text-align: right;\">        2.86</td><td style=\"text-align: right;\">        1</td></tr>\n",
       "<tr><td style=\"text-align: right;\">   9</td><td style=\"text-align: right;\">  7.74629e+06</td><td style=\"text-align: right;\">   7.7488e+06 </td><td style=\"text-align: right;\">           2504</td><td style=\"text-align: right;\">           1</td><td style=\"text-align: right;\">           181</td><td style=\"text-align: right;\">           164</td><td style=\"text-align: right;\">                1</td><td style=\"text-align: right;\">           8.92</td><td style=\"text-align: right;\">         32.5</td><td style=\"text-align: right;\">      0</td><td style=\"text-align: right;\">      0.5</td><td style=\"text-align: right;\">             0</td><td style=\"text-align: right;\">                    0.3</td><td style=\"text-align: right;\">         33.3 </td><td style=\"text-align: right;\">          1</td><td style=\"text-align: right;\">                  0   </td><td style=\"text-align: right;\">        0   </td><td style=\"text-align: right;\">        0</td></tr>\n",
       "</tbody>\n",
       "</table>"
      ]
     },
     "metadata": {},
     "output_type": "display_data"
    },
    {
     "data": {
      "text/plain": []
     },
     "execution_count": 3,
     "metadata": {},
     "output_type": "execute_result"
    }
   ],
   "source": [
    "df = processing_functions.process_df(df)\n",
    "df.head()"
   ]
  },
  {
   "cell_type": "code",
   "execution_count": null,
   "metadata": {},
   "outputs": [],
   "source": [
    "train, valid, test = df.split_frame(ratios = [.8,.1], seed = 2020)\n",
    "train_1 = train[train['did_tip']]\n",
    "valid_1 = valid[valid['did_tip']]"
   ]
  },
  {
   "cell_type": "code",
   "execution_count": null,
   "metadata": {},
   "outputs": [],
   "source": [
    "#Getting the names of the columns to use for models\n",
    "col_name_X = df.names[:-2]\n",
    "col_name_X.remove('C1')"
   ]
  },
  {
   "cell_type": "code",
   "execution_count": null,
   "metadata": {},
   "outputs": [],
   "source": [
    "#generating the RF models\n",
    "\n",
    "rf_bool = H2ORFE(\n",
    "    model_id=\"rf_did_tip\",\n",
    "    max_depth = 40,\n",
    "    ntrees=200,\n",
    "    stopping_rounds=4,\n",
    "    score_each_iteration=True,\n",
    "    stopping_metric = 'auc',\n",
    "    seed=2020)\n",
    "\n",
    "rf_value = H2ORFE(\n",
    "    model_id='rf_tip_amount_no_0',\n",
    "    max_depth = 50,\n",
    "    ntrees=200,\n",
    "    stopping_rounds=4,\n",
    "    score_each_iteration=True,\n",
    "    seed = 2020\n",
    ")\n",
    "\n",
    "rf_with_0 = H2ORFE(\n",
    "    model_id='rf_tip_amount_0',\n",
    "    max_depth = 50,\n",
    "    ntrees = 200,\n",
    "    stopping_rounds=4,\n",
    "    score_each_iteration=True,\n",
    "    seed = 2020\n",
    ")\n",
    "rf_bool.train(col_name_X,'did_tip',training_frame = train, validation_frame = valid)\n",
    "rf_value.train(col_name_X,'tip_amount',training_frame = train_1, validation_frame = valid_1)\n",
    "rf_with_0.train(col_name_X,'tip_amount', training_frame = train, validation_frame = valid)"
   ]
  },
  {
   "cell_type": "code",
   "execution_count": null,
   "metadata": {},
   "outputs": [],
   "source": [
    "#generating the Gradient Boost Machines\n",
    "grid_params = {\n",
    "    'ntrees' :[10,20,30,40],\n",
    "    'max_depth' :[5,10,20,30],\n",
    "    'sample_rate' : [.7,1.0],\n",
    "    'col_sample_rate' : [.5,1.0]\n",
    "}\n",
    "\n",
    "gbm_bool = H2OGBE(\n",
    "    model_id = 'gbm_did_tip',\n",
    "    ntrees = 30,\n",
    "    max_depth = 20,\n",
    "    score_each_iteration = True,\n",
    "    seed = 2020\n",
    ")\n",
    "\n",
    "gbm_value = H2OGBE(\n",
    "    model_id = 'gbm_tip_amount_no_0',\n",
    "    ntrees = 40,\n",
    "    max_depth = 20,\n",
    "    sample_rate = .7,\n",
    "    score_each_iteration = True,\n",
    "    seed = 2020\n",
    ")\n",
    "\n",
    "gbm_with_0 = H2OGBE(\n",
    "    model_id = 'gbm_tip_amount_0',\n",
    "    ntrees = 30,\n",
    "    max_depth = 20,\n",
    "    score_each_iteration = True,\n",
    "    seed = 2020\n",
    ")\n",
    "\n",
    "\n",
    "#Hyperparameter Grid Search\n",
    "# gbm_grid = H2OGS(model = H2OGBE,grid_id = 'gbm_grid_0s',hyper_params = grid_params, parallelism = 0)\n",
    "# gbm_grid_2 = H2OGS(model = H2OGBE,grid_id = 'gbm_grid_bool',hyper_params = grid_params, parallelism = 0)\n",
    "# gbm_grid_3 = H2OGS(model = H2OGBE,grid_id = 'gbm_grid_values',hyper_params = grid_params, parallelism = 0)\n",
    "\n",
    "# gbm_grid_3.train(col_name_X,'tip_amount',training_frame = train_1, validation_frame = valid_1)\n",
    "# gbm_grid_2.train(col_name_X,'did_tip',training_frame = train, validation_frame = valid)\n",
    "# gbm_grid.train(col_name_X,'tip_amount',training_frame = train, validation_frame = valid)\n",
    "\n",
    "\n",
    "gbm_with_0.train(col_name_X,'tip_amount',training_frame = train, validation_frame = valid)\n",
    "gbm_bool.train(col_name_X,'did_tip',training_frame = train, validation_frame = valid)\n",
    "gbm_value.train(col_name_X,'tip_amount', training_frame = train_1, validation_frame = valid_1)"
   ]
  },
  {
   "cell_type": "code",
   "execution_count": null,
   "metadata": {},
   "outputs": [],
   "source": [
    "#test_results is a dataframe that is identical to test, with 6 extra columns\n",
    "#first four extra columns are permutation of using gbm/rf for classifier/regressor combo where we only regress when classifier predicts 1\n",
    "#next 2 extra columns are just regressors using rf/gbm\n",
    "\n",
    "#generating did_tip predictions and making a copy of each\n",
    "test_results = test.cbind(rf_bool.predict(test)['predict'])\n",
    "test_results = test_results.cbind(test_results[:,'predict'])\n",
    "test_results = test_results.cbind(gbm_bool.predict(test)['predict'])\n",
    "test_results = test_results.cbind(test_results[:,'predict1'])\n",
    "\n",
    "#pure regressor\n",
    "test_results = test_results.cbind(rf_with_0.predict(test).round(2))\n",
    "test_results = test_results.cbind(gbm_with_0.predict(test).round(2))\n",
    "\n",
    "#Running the tips regressor on what the classifier thinks were tipped\n",
    "rf_tipped_1 = test_results[test_results['predict']]\n",
    "gbm_tipped_1 = test_results[test_results['predict1']]\n",
    "rf_rf_tipped_1 = rf_tipped_1['C1'].cbind(rf_value.predict(rf_tipped_1).round(2))\n",
    "rf_gbm_tipped_1 = rf_tipped_1['C1'].cbind(gbm_value.predict(rf_tipped_1).round(2))\n",
    "gbm_rf_tipped_1 = gbm_tipped_1['C1'].cbind(rf_value.predict(gbm_tipped_1).round(2))\n",
    "gbm_gbm_tipped_1 = gbm_tipped_1['C1'].cbind(gbm_value.predict(gbm_tipped_1).round(2))\n",
    "\n",
    "#Combining the 0s of the classifier with the predictions of the regressor\n",
    "merge_slice = test_results[:,'C1']\n",
    "rf_rf_slice = merge_slice.merge(rf_rf_tipped_1,all_x = True)\n",
    "rf_gbm_slice = merge_slice.merge(rf_gbm_tipped_1,all_x = True)\n",
    "gbm_rf_slice = merge_slice.merge(gbm_rf_tipped_1,all_x = True)\n",
    "gbm_gbm_slice = merge_slice.merge(gbm_gbm_tipped_1,all_x = True)\n",
    "\n",
    "rf_rf_slice[rf_rf_slice['predict'].isna(),'predict'] = 0\n",
    "rf_gbm_slice[rf_gbm_slice['predict'].isna(),'predict'] = 0\n",
    "gbm_rf_slice[gbm_rf_slice['predict'].isna(),'predict'] = 0\n",
    "gbm_gbm_slice[gbm_gbm_slice['predict'].isna(),'predict'] = 0\n",
    "\n",
    "#putting in the predictions into the original data frame\n",
    "test_results['predict'] = rf_rf_slice['predict']\n",
    "test_results['predict0'] = rf_gbm_slice['predict']\n",
    "test_results['predict1'] = gbm_rf_slice['predict']\n",
    "test_results['predict10'] = gbm_gbm_slice['predict']\n",
    "\n",
    "\n"
   ]
  },
  {
   "cell_type": "code",
   "execution_count": null,
   "metadata": {},
   "outputs": [],
   "source": [
    "#Generating the table of predictions\n",
    "pandas_df = test_results[:,test_results.col_names[-8:]].as_data_frame().drop('did_tip',axis=1)\n",
    "pandas_df.head(20)"
   ]
  },
  {
   "cell_type": "code",
   "execution_count": null,
   "metadata": {},
   "outputs": [],
   "source": [
    "#Generating the Metric Matrix for the different models\n",
    "pandas_df = pandas_df.rename(columns = {'predict':'RF_RF','predict0' : 'RF_GBM', 'predict1' :'GBM_RF', 'predict10' : 'GBM_GBM', 'predict2' : 'RF' , 'predict3' : 'GBM'})\n",
    "column_names = pandas_df.columns[1:]\n",
    "model_names = ['RF_RF ClassReg', 'RF_GBM ClassReg','GBM_RF ClassReg','GBM_GBM ClassReg','RF Regress','GBM Regress']\n",
    "\n",
    "\n",
    "metric_matrix = np.zeros((3,len(column_names)))\n",
    "\n",
    "#for each model, calculate R2, MSE, and MAE\n",
    "for i in range(len(column_names)):\n",
    "    metric_matrix[0,i] = r2_score(pandas_df['tip_amount'],pandas_df[column_names[i]]).round(5)\n",
    "    metric_matrix[1,i] = mean_squared_error(pandas_df['tip_amount'],pandas_df[column_names[i]]).round(5)\n",
    "    metric_matrix[2,i] = mean_absolute_error(pandas_df['tip_amount'],pandas_df[column_names[i]]).round(5)\n",
    "    \n",
    "#Displaying the matrix\n",
    "metric_df = pd.DataFrame(metric_matrix,columns = model_names)\n",
    "metric_df.insert(0,'Metric',['R2','MSE','MAE'])\n",
    "metric_df = metric_df.set_index('Metric')\n",
    "metric_df.head()"
   ]
  },
  {
   "cell_type": "code",
   "execution_count": null,
   "metadata": {},
   "outputs": [],
   "source": [
    "#Plotting actual vs predicted tip amount\n",
    "plt.figure(figsize = (7,7))\n",
    "plt.xlim(-.5,20)\n",
    "plt.ylim(-.5,20)\n",
    "\n",
    "plt.title('Actual vs Predicted Tip')\n",
    "plt.xlabel('Actual')\n",
    "plt.ylabel('Predicted')\n",
    "\n",
    "plt.axes().set_aspect('equal')\n",
    "\n",
    "line = [.01*i for i in range(int(80/.01))]\n",
    "plt.plot('tip_amount','RF','b.',markersize=3,data = pandas_df)\n",
    "lin, = plt.plot(line,line,'r*',markersize=1)\n",
    "lin.set_label('Actual = Predicted')\n",
    "plt.legend()\n",
    "\n",
    "plt.show()"
   ]
  },
  {
   "cell_type": "code",
   "execution_count": null,
   "metadata": {},
   "outputs": [],
   "source": [
    "h2o.save_model(model=rf_bool,path = 'models/',force = True)\n",
    "h2o.save_model(model=rf_value,path = 'models/',force = True)\n",
    "h2o.save_model(model=rf_with_0,path = 'models/',force = True)\n",
    "h2o.save_model(model=gbm_bool,path = 'models/',force = True)\n",
    "h2o.save_model(model=gbm_value,path = 'models/',force = True)\n",
    "h2o.save_model(model=gbm_with_0,path = 'models/',force = True)"
   ]
  }
 ],
 "metadata": {
  "kernelspec": {
   "display_name": "Python 3",
   "language": "python",
   "name": "python3"
  },
  "language_info": {
   "codemirror_mode": {
    "name": "ipython",
    "version": 3
   },
   "file_extension": ".py",
   "mimetype": "text/x-python",
   "name": "python",
   "nbconvert_exporter": "python",
   "pygments_lexer": "ipython3",
   "version": "3.7.2"
  }
 },
 "nbformat": 4,
 "nbformat_minor": 4
}
